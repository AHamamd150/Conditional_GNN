{
 "cells": [
  {
   "cell_type": "markdown",
   "id": "b69892a0",
   "metadata": {},
   "source": [
    "# This notebook is used to reproduce the example given in https://arxiv.org/pdf/1601.07913v1 and used to validate the conditional DNN in axriv:xxx"
   ]
  },
  {
   "cell_type": "code",
   "execution_count": 1,
   "id": "0d376126",
   "metadata": {},
   "outputs": [],
   "source": [
    "import numpy as np\n",
    "import matplotlib.pyplot as plt\n",
    "import tensorflow\n",
    "from tensorflow import keras\n",
    "from keras import layers\n",
    "from keras.models import Sequential, Model\n",
    "from keras.layers import Dense, Dropout, LeakyReLU, LSTM, Conv1D, SimpleRNN, Concatenate\n",
    "from matplotlib.font_manager import FontProperties\n",
    "from matplotlib import colors\n",
    "plt.rcParams[\"font.family\"] = \"Times New Roman\"\n",
    "plt.rcParams[\"mathtext.default\"] = \"rm\"\n",
    "plt.rcParams['text.usetex'] = True\n",
    "from matplotlib.colors import LogNorm"
   ]
  },
  {
   "cell_type": "code",
   "execution_count": 2,
   "id": "a1159ff1",
   "metadata": {},
   "outputs": [],
   "source": [
    "s1 = np.random.normal(-2, 0.25, 50000)\n",
    "s2 = np.random.normal(-1, 0.25, 50000)\n",
    "s3 = np.random.normal(0, 0.25, 50000)\n",
    "s4 = np.random.normal(1, 0.25, 50000)\n",
    "s5 = np.random.normal(2, 0.25, 50000)\n"
   ]
  },
  {
   "cell_type": "code",
   "execution_count": 3,
   "id": "26c0e501",
   "metadata": {},
   "outputs": [],
   "source": [
    "sig1 = np.vstack((s1,np.ones(len(s1))*-2))\n",
    "sig2 = np.vstack((s2,np.ones(len(s2))*-1))\n",
    "sig3 = np.vstack((s3,np.ones(len(s3))*0))\n",
    "sig4 = np.vstack((s4,np.ones(len(s4))*1))\n",
    "sig5 = np.vstack((s5,np.ones(len(s5))*2))\n",
    "\n",
    "sig = np.hstack((sig1,sig2,sig3,sig4,sig5)).T\n",
    "bkg=  np.vstack((np.random.uniform(-4,4,int(sig.shape[0]/4)),np.random.uniform(-4,4,int(sig.shape[0]/4)))).T\n"
   ]
  },
  {
   "cell_type": "code",
   "execution_count": 4,
   "id": "4d33cfe3",
   "metadata": {},
   "outputs": [
    {
     "data": {
      "text/plain": [
       "((250000, 2), (62500, 2))"
      ]
     },
     "execution_count": 4,
     "metadata": {},
     "output_type": "execute_result"
    }
   ],
   "source": [
    "sig.shape,bkg.shape"
   ]
  },
  {
   "cell_type": "code",
   "execution_count": 16,
   "id": "6b74ca7a",
   "metadata": {},
   "outputs": [
    {
     "data": {
      "image/png": "[encoded data removed]",
      "text/plain": [
       "<Figure size 432x288 with 1 Axes>"
      ]
     },
     "metadata": {
      "needs_background": "light"
     },
     "output_type": "display_data"
    }
   ],
   "source": [
    "plt.hist(sig[:,0],bins=50,histtype='step',fill=True);\n",
    "plt.hist(bkg[:,0],bins=50,histtype='step',fill=True);"
   ]
  },
  {
   "cell_type": "code",
   "execution_count": 17,
   "id": "04d71dec",
   "metadata": {},
   "outputs": [
    {
     "data": {
      "text/plain": [
       "((250000, 2), (62500, 2))"
      ]
     },
     "execution_count": 17,
     "metadata": {},
     "output_type": "execute_result"
    }
   ],
   "source": [
    "sig.shape,bkg.shape"
   ]
  },
  {
   "cell_type": "code",
   "execution_count": 5,
   "id": "f20a0a1d",
   "metadata": {},
   "outputs": [],
   "source": [
    "x_data = np.concatenate((sig,bkg))\n",
    "y_data = np.concatenate((np.ones(sig.shape[0]),np.zeros(bkg.shape[0])))"
   ]
  },
  {
   "cell_type": "code",
   "execution_count": 6,
   "id": "a748ff52",
   "metadata": {},
   "outputs": [],
   "source": [
    "from sklearn.model_selection import train_test_split\n",
    "X_train, X_test, y_train, y_test = train_test_split(x_data,y_data,test_size=0.2,shuffle=True)\n",
    "     "
   ]
  },
  {
   "cell_type": "code",
   "execution_count": 7,
   "id": "b3b2e7f5",
   "metadata": {},
   "outputs": [
    {
     "name": "stdout",
     "output_type": "stream",
     "text": [
      "train sample shape=  (250000, 2)  and test sample shape=  (62500, 2)\n",
      "train label shape=  (250000,) \t and test label shape=  (62500,)\n"
     ]
    }
   ],
   "source": [
    "print('train sample shape= ',X_train.shape,' and test sample shape= ',X_test.shape)\n",
    "print('train label shape= ',y_train.shape,'\\t and test label shape= ',y_test.shape)"
   ]
  },
  {
   "cell_type": "code",
   "execution_count": null,
   "id": "0433ea88",
   "metadata": {},
   "outputs": [],
   "source": []
  },
  {
   "cell_type": "code",
   "execution_count": 8,
   "id": "45693d95",
   "metadata": {},
   "outputs": [
    {
     "name": "stderr",
     "output_type": "stream",
     "text": [
      "2024-05-10 16:43:48.084645: I metal_plugin/src/device/metal_device.cc:1154] Metal device set to: Apple M2 Pro\n",
      "2024-05-10 16:43:48.084674: I metal_plugin/src/device/metal_device.cc:296] systemMemory: 32.00 GB\n",
      "2024-05-10 16:43:48.084681: I metal_plugin/src/device/metal_device.cc:313] maxCacheSize: 10.67 GB\n",
      "2024-05-10 16:43:48.084724: I tensorflow/core/common_runtime/pluggable_device/pluggable_device_factory.cc:303] Could not identify NUMA node of platform GPU ID 0, defaulting to 0. Your kernel may not have been built with NUMA support.\n",
      "2024-05-10 16:43:48.084743: I tensorflow/core/common_runtime/pluggable_device/pluggable_device_factory.cc:269] Created TensorFlow device (/job:localhost/replica:0/task:0/device:GPU:0 with 0 MB memory) -> physical PluggableDevice (device: 0, name: METAL, pci bus id: <undefined>)\n"
     ]
    }
   ],
   "source": [
    "inputA = keras.layers.Input(shape=(1,))\n",
    "x = keras.layers.Dense(300,activation='relu')(inputA)\n",
    "x = keras.layers.Dense(300,activation='relu') (x)\n",
    "x = keras.layers.Dense(100,activation='relu') (x)\n",
    "\n",
    "inputB = keras.layers.Input(shape=(1,))\n",
    "y = keras.layers.Dense(100)(inputB)\n",
    "\n",
    "combined = keras.layers.concatenate([x, y])\n",
    "out = keras.layers.Dense(64,activation='tanh') (combined)\n",
    "#out = keras.layers.Dense(32,activation='tanh') (out)\n",
    "output = keras.layers.Dense(1,activation='sigmoid')(out)\n",
    "\n",
    "model = Model([inputA,inputB],output)"
   ]
  },
  {
   "cell_type": "code",
   "execution_count": 9,
   "id": "d11c79ca",
   "metadata": {},
   "outputs": [
    {
     "name": "stdout",
     "output_type": "stream",
     "text": [
      "Model: \"model\"\n",
      "__________________________________________________________________________________________________\n",
      " Layer (type)                Output Shape                 Param #   Connected to                  \n",
      "==================================================================================================\n",
      " input_1 (InputLayer)        [(None, 1)]                  0         []                            \n",
      "                                                                                                  \n",
      " dense (Dense)               (None, 300)                  600       ['input_1[0][0]']             \n",
      "                                                                                                  \n",
      " dense_1 (Dense)             (None, 300)                  90300     ['dense[0][0]']               \n",
      "                                                                                                  \n",
      " input_2 (InputLayer)        [(None, 1)]                  0         []                            \n",
      "                                                                                                  \n",
      " dense_2 (Dense)             (None, 100)                  30100     ['dense_1[0][0]']             \n",
      "                                                                                                  \n",
      " dense_3 (Dense)             (None, 100)                  200       ['input_2[0][0]']             \n",
      "                                                                                                  \n",
      " concatenate (Concatenate)   (None, 200)                  0         ['dense_2[0][0]',             \n",
      "                                                                     'dense_3[0][0]']             \n",
      "                                                                                                  \n",
      " dense_4 (Dense)             (None, 64)                   12864     ['concatenate[0][0]']         \n",
      "                                                                                                  \n",
      " dense_5 (Dense)             (None, 1)                    65        ['dense_4[0][0]']             \n",
      "                                                                                                  \n",
      "==================================================================================================\n",
      "Total params: 134129 (523.94 KB)\n",
      "Trainable params: 134129 (523.94 KB)\n",
      "Non-trainable params: 0 (0.00 Byte)\n",
      "__________________________________________________________________________________________________\n"
     ]
    }
   ],
   "source": [
    "model.summary()"
   ]
  },
  {
   "cell_type": "code",
   "execution_count": 10,
   "id": "b06d0548",
   "metadata": {},
   "outputs": [],
   "source": [
    "#model = keras.Sequential([ \n",
    "#keras.layers.Dense(300,input_dim=2,activation='relu'),\n",
    "#keras.layers.Dense(300,activation='relu'),\n",
    "#keras.layers.Dense(100,activation='relu'),     \n",
    "#keras.layers.Dropout(0.2),\n",
    "#keras.layers.Dense(1,activation='sigmoid') #Only one neuron while we have binary problem( Signal events or not)\n",
    "#])\n",
    "#model.summary()"
   ]
  },
  {
   "cell_type": "code",
   "execution_count": 11,
   "id": "6f314f8d",
   "metadata": {},
   "outputs": [],
   "source": [
    "model.compile(optimizer=keras.optimizers.legacy.Adam(learning_rate=0.0001),loss='mse',metrics=['accuracy'])\n"
   ]
  },
  {
   "cell_type": "code",
   "execution_count": 12,
   "id": "338e7585",
   "metadata": {
    "scrolled": false
   },
   "outputs": [
    {
     "name": "stdout",
     "output_type": "stream",
     "text": [
      "Epoch 1/5\n"
     ]
    },
    {
     "name": "stderr",
     "output_type": "stream",
     "text": [
      "2024-05-10 16:43:50.284478: I tensorflow/core/grappler/optimizers/custom_graph_optimizer_registry.cc:114] Plugin optimizer for device_type GPU is enabled.\n"
     ]
    },
    {
     "name": "stdout",
     "output_type": "stream",
     "text": [
      "396/400 [============================>.] - ETA: 0s - loss: 0.1585 - accuracy: 0.8126"
     ]
    },
    {
     "name": "stderr",
     "output_type": "stream",
     "text": [
      "2024-05-10 16:43:53.336658: I tensorflow/core/grappler/optimizers/custom_graph_optimizer_registry.cc:114] Plugin optimizer for device_type GPU is enabled.\n"
     ]
    },
    {
     "name": "stdout",
     "output_type": "stream",
     "text": [
      "400/400 [==============================] - 4s 7ms/step - loss: 0.1581 - accuracy: 0.8128 - val_loss: 0.1126 - val_accuracy: 0.8382\n",
      "Epoch 2/5\n",
      "400/400 [==============================] - 3s 6ms/step - loss: 0.1020 - accuracy: 0.8575 - val_loss: 0.0922 - val_accuracy: 0.8669\n",
      "Epoch 3/5\n",
      "400/400 [==============================] - 2s 6ms/step - loss: 0.0687 - accuracy: 0.9214 - val_loss: 0.0468 - val_accuracy: 0.9491\n",
      "Epoch 4/5\n",
      "400/400 [==============================] - 3s 7ms/step - loss: 0.0411 - accuracy: 0.9551 - val_loss: 0.0392 - val_accuracy: 0.9578\n",
      "Epoch 5/5\n",
      "400/400 [==============================] - 3s 7ms/step - loss: 0.0365 - accuracy: 0.9588 - val_loss: 0.0349 - val_accuracy: 0.9597\n"
     ]
    }
   ],
   "source": [
    "history = model.fit([X_train[:,0],X_train[:,1]],y_train,epochs=5,batch_size=500,validation_split=0.2)"
   ]
  },
  {
   "cell_type": "code",
   "execution_count": 13,
   "id": "8424e790",
   "metadata": {},
   "outputs": [],
   "source": [
    "x1_new =X_test[:,0][y_test==1]\n",
    "x2_new =X_test[:,1][y_test==1]"
   ]
  },
  {
   "cell_type": "code",
   "execution_count": 14,
   "id": "3357c94f",
   "metadata": {},
   "outputs": [
    {
     "name": "stdout",
     "output_type": "stream",
     "text": [
      "  42/1563 [..............................] - ETA: 3s"
     ]
    },
    {
     "name": "stderr",
     "output_type": "stream",
     "text": [
      "2024-05-10 16:44:04.017676: I tensorflow/core/grappler/optimizers/custom_graph_optimizer_registry.cc:114] Plugin optimizer for device_type GPU is enabled.\n"
     ]
    },
    {
     "name": "stdout",
     "output_type": "stream",
     "text": [
      "1563/1563 [==============================] - 3s 2ms/step\n"
     ]
    }
   ],
   "source": [
    "y = model.predict([x1_new,x2_new]);\n"
   ]
  },
  {
   "cell_type": "code",
   "execution_count": 15,
   "id": "c9df1102",
   "metadata": {},
   "outputs": [
    {
     "data": {
      "image/png": "[encoded data removed]",
      "text/plain": [
       "<Figure size 432x288 with 1 Axes>"
      ]
     },
     "metadata": {
      "needs_background": "light"
     },
     "output_type": "display_data"
    }
   ],
   "source": [
    "plt.scatter(X_test[:,0][y_test==1],y,s=1);"
   ]
  },
  {
   "cell_type": "code",
   "execution_count": 16,
   "id": "e384d1eb",
   "metadata": {},
   "outputs": [],
   "source": [
    "t1 = np.random.normal(-0.5, 0.25, 5000).T\n",
    "st1 = np.vstack((t1,np.ones(len(t1))*-0.5)).T\n",
    "\n",
    "t2 = np.random.normal(0.5, 0.25, 5000).T\n",
    "st2 = np.vstack((t2,np.ones(len(t2))*0.5)).T"
   ]
  },
  {
   "cell_type": "code",
   "execution_count": 17,
   "id": "8c38d3f8",
   "metadata": {},
   "outputs": [
    {
     "name": "stdout",
     "output_type": "stream",
     "text": [
      "157/157 [==============================] - 0s 3ms/step\n",
      "157/157 [==============================] - 0s 2ms/step\n"
     ]
    }
   ],
   "source": [
    "y1 = model.predict([st1[:,0],st1[:,1]]);\n",
    "y2 = model.predict([st2[:,0],st2[:,1]]);"
   ]
  },
  {
   "cell_type": "code",
   "execution_count": 18,
   "id": "f3adcd1a",
   "metadata": {},
   "outputs": [
    {
     "data": {
      "image/png": "[encoded data removed]",
      "text/plain": [
       "<Figure size 720x504 with 1 Axes>"
      ]
     },
     "metadata": {
      "needs_background": "light"
     },
     "output_type": "display_data"
    }
   ],
   "source": [
    "plt.figure(figsize=(10,7))\n",
    "plt.scatter(X_test[:,0][y_test==1],y,s=10);\n",
    "plt.scatter(st1[:,0],y1,s=10);\n",
    "plt.scatter(st2[:,0],y2,s=10);\n",
    "plt.xlabel('Input feature', fontsize=20);\n",
    "plt.ylabel('DNN output', fontsize=20);\n",
    "plt.tick_params('both', labelsize=20);"
   ]
  },
  {
   "cell_type": "code",
   "execution_count": 19,
   "id": "d17beec5",
   "metadata": {},
   "outputs": [
    {
     "name": "stdout",
     "output_type": "stream",
     "text": [
      "  24/1954 [..............................] - ETA: 8s - loss: 0.0351 - accuracy: 0.9570 "
     ]
    },
    {
     "name": "stderr",
     "output_type": "stream",
     "text": [
      "2024-05-10 16:44:14.614023: I tensorflow/core/grappler/optimizers/custom_graph_optimizer_registry.cc:114] Plugin optimizer for device_type GPU is enabled.\n"
     ]
    },
    {
     "name": "stdout",
     "output_type": "stream",
     "text": [
      "1954/1954 [==============================] - 8s 4ms/step - loss: 0.0352 - accuracy: 0.9588\n"
     ]
    },
    {
     "data": {
      "text/plain": [
       "[0.03523978963494301, 0.9588479995727539]"
      ]
     },
     "execution_count": 19,
     "metadata": {},
     "output_type": "execute_result"
    }
   ],
   "source": [
    "model.evaluate([X_test[:,0],X_test[:,1]],y_test)"
   ]
  },
  {
   "cell_type": "code",
   "execution_count": null,
   "id": "48ad7040",
   "metadata": {},
   "outputs": [],
   "source": [
    "fig = plt.figure(figsize=(20,6))\n",
    "\n",
    "yl1 = fig.add_subplot(121)\n",
    "yl1.hist(s1,bins= 30,fill=True,histtype='step',label=r'$\\theta=-2$');\n",
    "yl1.hist(s2,bins= 30,fill=True,histtype='step',label=r'$\\theta=-1$');\n",
    "yl1.hist(s3,bins= 30,fill=True,histtype='step',label=r'$\\theta=0$');\n",
    "yl1.hist(s4,bins= 30,fill=True,histtype='step',label=r'$\\theta=1$');\n",
    "yl1.hist(s5,bins= 30,fill=True,histtype='step',label=r'$\\theta=2$');\n",
    "yl1.hist(bkg,bins= 30,fill=True,histtype='step',alpha=0.6,label=r'Uniform');\n",
    "yl1.legend(fontsize=20,frameon=True);\n",
    "yl1.set_xlabel('x',fontsize=25);\n",
    "yl1.set_ylabel('Training events',fontsize=25);\n",
    "plt.tick_params('both',labelsize=20);\n",
    "plt.xlim(-4.5,5);\n",
    "\n",
    "yl = fig.add_subplot(122)\n",
    "yl.scatter(X_test[:,0][y_test==1],y,s=10,label = 'Trained');\n",
    "yl.scatter(st1[:,0],y1,s=10,label = 'Interpolated');\n",
    "yl.scatter(st2[:,0],y2,s=10,label = 'Interpolated');\n",
    "yl.set_xlabel(r'x', fontsize=25);\n",
    "yl.set_ylabel('DNN output', fontsize=25);\n",
    "yl.tick_params('both', labelsize=20);\n",
    "yl.legend(fontsize=20,frameon=True,scatterpoints=50);\n",
    "yl.set_title(\"Test points\",fontsize=25)\n",
    "\n",
    "plt.tight_layout()\n",
    "\n",
    "\n",
    "plt.savefig('/Users/hammad/work/tth/Toy.pdf')"
   ]
  }
 ],
 "metadata": {
  "kernelspec": {
   "display_name": "tf",
   "language": "python",
   "name": "tf"
  },
  "language_info": {
   "codemirror_mode": {
    "name": "ipython",
    "version": 3
   },
   "file_extension": ".py",
   "mimetype": "text/x-python",
   "name": "python",
   "nbconvert_exporter": "python",
   "pygments_lexer": "ipython3",
   "version": "3.10.13"
  }
 },
 "nbformat": 4,
 "nbformat_minor": 5
}
